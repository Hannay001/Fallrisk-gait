{
  "cells": [
    {
      "cell_type": "markdown",
      "metadata": {},
      "source": [
        "# 01 \u00b7 Seed cohort generation\n",
        "[![Open In Colab](https://colab.research.google.com/assets/colab-badge.svg)](https://colab.research.google.com/github/ORG/Fallrisk-gait/blob/main/datasets/fallrisk/notebooks/01_seed.ipynb)"
      ]
    },
    {
      "cell_type": "markdown",
      "metadata": {},
      "source": [
        "This notebook fabricates a 2k-row seed cohort with correlated demographics, health indicators, and mobility metrics. It also applies the `multi_feature_v1` label policy and saves the result to `data/seed_fallrisk.csv`.\n"
      ]
    },
    {
      "cell_type": "code",
      "execution_count": null,
      "metadata": {},
      "outputs": [],
      "source": [
        "from pathlib import Path\n",
        "import csv\n",
        "import math\n",
        "import random\n",
        "from statistics import mean\n",
        "\n",
        "def locate_repo_root(max_depth: int = 6) -> Path:\n",
        "    here = Path.cwd()\n",
        "    for _ in range(max_depth):\n",
        "        if (here / 'datasets').exists() and (here / 'data').exists():\n",
        "            return here\n",
        "        if here.parent == here:\n",
        "            break\n",
        "        here = here.parent\n",
        "    return Path.cwd()\n",
        "\n",
        "ROOT = locate_repo_root()\n",
        "DATA_DIR = ROOT / 'data'\n",
        "DATA_DIR.mkdir(exist_ok=True)\n",
        "random.seed(7)\n"
      ]
    },
    {
      "cell_type": "code",
      "execution_count": null,
      "metadata": {},
      "outputs": [],
      "source": [
        "def generate_seed_row(idx: int) -> dict:\n",
        "    base_age = random.gauss(72, 7)\n",
        "    age = max(55, min(95, base_age))\n",
        "    sex = 'Female' if random.random() < 0.62 else 'Male'\n",
        "    bmi_latent = random.gauss(27, 3)\n",
        "    bmi = max(18, min(42, bmi_latent + 0.5 if sex == 'Female' else bmi_latent - 0.3))\n",
        "    chronic = max(0, int(random.gauss(2.2, 1.4)))\n",
        "    med = max(0, int(random.gauss(3.5 + 0.6 * chronic, 1.2)))\n",
        "    muscle = max(20, min(90, random.gauss(70 - 0.4 * (age - 70) - 1.5 * chronic, 6)))\n",
        "    gait_base = random.gauss(1.05, 0.12)\n",
        "    gait = max(0.4, min(1.6, gait_base - 0.004 * (age - 70) + 0.002 * (muscle - 60) - 0.015 * chronic))\n",
        "    stride = max(60, min(140, random.gauss(120, 8) + 5 * (gait - 1.0)))\n",
        "    sway = max(0.5, min(6.0, random.gauss(2.2 + 0.02 * (age - 70), 0.6)))\n",
        "    falls = max(0, min(4, int(random.random() < 0.28 + 0.12 * max(gait < 0.8, 0) + 0.07 * max(chronic - 2, 0))))\n",
        "    device_prob = 0.2 + 0.15 * (gait < 0.85) + 0.1 * (falls > 0)\n",
        "    if random.random() < device_prob:\n",
        "        assistive_device = 'Walker' if random.random() < 0.45 else 'Cane'\n",
        "    else:\n",
        "        assistive_device = 'None'\n",
        "    dual_task = max(0.0, min(45.0, random.gauss(12 + 6 * (gait < 0.9) + 0.15 * med, 5)))\n",
        "    fear_score = max(0, min(28, int(random.gauss(11 + 4 * (falls > 0) + 0.12 * dual_task, 4))))\n",
        "    reaction_time = max(300, min(900, random.gauss(620 + 2 * (age - 70) + 15 * (falls > 0), 60)))\n",
        "    systolic = max(95, min(190, random.gauss(128 + 0.6 * (age - 65) + 1.2 * chronic, 12)))\n",
        "    tug = 8.5 + 0.065 * (age - 65) + 0.09 * (bmi - 26) - 2.1 * (gait - 1.0) + 0.18 * max(0, sway - 2.5)\n",
        "    tug += 0.07 * dual_task + 0.04 * fear_score + 0.45 * falls + (2.5 if assistive_device != 'None' else 0)\n",
        "    tug += random.gauss(0, 0.9)\n",
        "    tug = max(6.5, min(35, tug))\n",
        "    high_risk = int(tug >= 13.5 or gait < 0.8 or falls >= 1 or dual_task >= 22 or assistive_device != 'None')\n",
        "    if high_risk:\n",
        "        risk_level = 'high'\n",
        "    else:\n",
        "        moderate = tug >= 11.2 or fear_score >= 16 or med >= 6 or chronic >= 3\n",
        "        risk_level = 'moderate' if moderate else 'low'\n",
        "    return {\n",
        "        'participant_id': f'SEED_{idx:05d}',\n",
        "        'age_years': round(age, 1),\n",
        "        'sex': sex,\n",
        "        'bmi': round(bmi, 1),\n",
        "        'systolic_bp': round(systolic, 1),\n",
        "        'gait_speed_m_s': round(gait, 3),\n",
        "        'stride_length_cm': round(stride, 1),\n",
        "        'postural_sway_cm': round(sway, 3),\n",
        "        'medication_count': med,\n",
        "        'chronic_conditions': chronic,\n",
        "        'past_falls_6mo': falls,\n",
        "        'assistive_device': assistive_device,\n",
        "        'dual_task_cost_percent': round(dual_task, 2),\n",
        "        'fear_of_falling_score': fear_score,\n",
        "        'muscle_strength_score': round(muscle, 1),\n",
        "        'reaction_time_ms': round(reaction_time, 1),\n",
        "        'tug_seconds': round(tug, 3),\n",
        "        'label_high_fall_risk': high_risk,\n",
        "        'label_risk_level': risk_level\n",
        "    }\n"
      ]
    },
    {
      "cell_type": "code",
      "execution_count": null,
      "metadata": {},
      "outputs": [],
      "source": [
        "seed_rows = [generate_seed_row(i + 1) for i in range(2000)]\n",
        "fieldnames = list(seed_rows[0].keys())\n",
        "output_path = DATA_DIR / 'seed_fallrisk.csv'\n",
        "with output_path.open('w', newline='') as f:\n",
        "    writer = csv.DictWriter(f, fieldnames=fieldnames)\n",
        "    writer.writeheader()\n",
        "    writer.writerows(seed_rows)\n",
        "\n",
        "high_rate = mean(r['label_high_fall_risk'] for r in seed_rows)\n",
        "print(f'Seed cohort saved to {output_path.resolve()}')\n",
        "print(f'Total rows: {len(seed_rows)} | High-risk prevalence: {high_rate:.3f}')\n"
      ]
    }
  ],
  "metadata": {
    "kernelspec": {
      "display_name": "Python 3",
      "language": "python",
      "name": "python3"
    },
    "language_info": {
      "name": "python",
      "version": "3.11"
    }
  },
  "nbformat": 4,
  "nbformat_minor": 5
}